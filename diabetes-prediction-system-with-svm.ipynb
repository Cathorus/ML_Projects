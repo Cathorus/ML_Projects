{
 "cells": [
  {
   "cell_type": "markdown",
   "id": "0abc15a3",
   "metadata": {
    "papermill": {
     "duration": 0.009787,
     "end_time": "2023-05-01T22:50:49.003900",
     "exception": false,
     "start_time": "2023-05-01T22:50:48.994113",
     "status": "completed"
    },
    "tags": []
   },
   "source": [
    "1. [Data Collection and Analysis](#1)\n",
    "    * [Separating the features and target](#2)\n",
    "1. [Training](#3)\n",
    "    * [Train Test Split](#4)\n",
    "    * [Training the Model](#5)\n",
    "1. [Model Evaluation](#6)\n",
    "    * [Accuracy Score](#7)\n",
    "1. [Making a Predictive System](#8)\n",
    "1. [Saving The model](#9)"
   ]
  },
  {
   "cell_type": "markdown",
   "id": "61d8baaa",
   "metadata": {
    "papermill": {
     "duration": 0.005936,
     "end_time": "2023-05-01T22:50:49.016628",
     "exception": false,
     "start_time": "2023-05-01T22:50:49.010692",
     "status": "completed"
    },
    "tags": []
   },
   "source": [
    "<a id = \"1\"></a><br>\n",
    "# Data Collection and Analysis"
   ]
  },
  {
   "cell_type": "code",
   "execution_count": 1,
   "id": "cdab75b5",
   "metadata": {
    "_cell_guid": "b1076dfc-b9ad-4769-8c92-a6c4dae69d19",
    "_uuid": "8f2839f25d086af736a60e9eeb907d3b93b6e0e5",
    "execution": {
     "iopub.execute_input": "2023-05-01T22:50:49.031721Z",
     "iopub.status.busy": "2023-05-01T22:50:49.030387Z",
     "iopub.status.idle": "2023-05-01T22:50:50.441667Z",
     "shell.execute_reply": "2023-05-01T22:50:50.440725Z"
    },
    "papermill": {
     "duration": 1.422016,
     "end_time": "2023-05-01T22:50:50.444734",
     "exception": false,
     "start_time": "2023-05-01T22:50:49.022718",
     "status": "completed"
    },
    "tags": []
   },
   "outputs": [
    {
     "name": "stderr",
     "output_type": "stream",
     "text": [
      "/opt/conda/lib/python3.10/site-packages/scipy/__init__.py:146: UserWarning: A NumPy version >=1.16.5 and <1.23.0 is required for this version of SciPy (detected version 1.23.5\n",
      "  warnings.warn(f\"A NumPy version >={np_minversion} and <{np_maxversion}\"\n"
     ]
    }
   ],
   "source": [
    "import numpy as np\n",
    "import pandas as pd\n",
    "from sklearn.model_selection import train_test_split\n",
    "from sklearn import svm\n",
    "from sklearn.metrics import accuracy_score"
   ]
  },
  {
   "cell_type": "code",
   "execution_count": 2,
   "id": "d3934262",
   "metadata": {
    "execution": {
     "iopub.execute_input": "2023-05-01T22:50:50.460812Z",
     "iopub.status.busy": "2023-05-01T22:50:50.459506Z",
     "iopub.status.idle": "2023-05-01T22:50:50.486840Z",
     "shell.execute_reply": "2023-05-01T22:50:50.485596Z"
    },
    "papermill": {
     "duration": 0.038485,
     "end_time": "2023-05-01T22:50:50.489931",
     "exception": false,
     "start_time": "2023-05-01T22:50:50.451446",
     "status": "completed"
    },
    "tags": []
   },
   "outputs": [],
   "source": [
    "df = pd.read_csv(\"/kaggle/input/docspot/datasets_228_482_diabetes.csv\")"
   ]
  },
  {
   "cell_type": "code",
   "execution_count": 3,
   "id": "620bfd0c",
   "metadata": {
    "execution": {
     "iopub.execute_input": "2023-05-01T22:50:50.505120Z",
     "iopub.status.busy": "2023-05-01T22:50:50.504693Z",
     "iopub.status.idle": "2023-05-01T22:50:50.536096Z",
     "shell.execute_reply": "2023-05-01T22:50:50.534946Z"
    },
    "papermill": {
     "duration": 0.042625,
     "end_time": "2023-05-01T22:50:50.539275",
     "exception": false,
     "start_time": "2023-05-01T22:50:50.496650",
     "status": "completed"
    },
    "tags": []
   },
   "outputs": [
    {
     "data": {
      "text/html": [
       "<div>\n",
       "<style scoped>\n",
       "    .dataframe tbody tr th:only-of-type {\n",
       "        vertical-align: middle;\n",
       "    }\n",
       "\n",
       "    .dataframe tbody tr th {\n",
       "        vertical-align: top;\n",
       "    }\n",
       "\n",
       "    .dataframe thead th {\n",
       "        text-align: right;\n",
       "    }\n",
       "</style>\n",
       "<table border=\"1\" class=\"dataframe\">\n",
       "  <thead>\n",
       "    <tr style=\"text-align: right;\">\n",
       "      <th></th>\n",
       "      <th>Pregnancies</th>\n",
       "      <th>Glucose</th>\n",
       "      <th>BloodPressure</th>\n",
       "      <th>SkinThickness</th>\n",
       "      <th>Insulin</th>\n",
       "      <th>BMI</th>\n",
       "      <th>DiabetesPedigreeFunction</th>\n",
       "      <th>Age</th>\n",
       "      <th>Outcome</th>\n",
       "    </tr>\n",
       "  </thead>\n",
       "  <tbody>\n",
       "    <tr>\n",
       "      <th>0</th>\n",
       "      <td>6</td>\n",
       "      <td>148</td>\n",
       "      <td>72</td>\n",
       "      <td>35</td>\n",
       "      <td>0</td>\n",
       "      <td>33.6</td>\n",
       "      <td>0.627</td>\n",
       "      <td>50</td>\n",
       "      <td>1</td>\n",
       "    </tr>\n",
       "    <tr>\n",
       "      <th>1</th>\n",
       "      <td>1</td>\n",
       "      <td>85</td>\n",
       "      <td>66</td>\n",
       "      <td>29</td>\n",
       "      <td>0</td>\n",
       "      <td>26.6</td>\n",
       "      <td>0.351</td>\n",
       "      <td>31</td>\n",
       "      <td>0</td>\n",
       "    </tr>\n",
       "    <tr>\n",
       "      <th>2</th>\n",
       "      <td>8</td>\n",
       "      <td>183</td>\n",
       "      <td>64</td>\n",
       "      <td>0</td>\n",
       "      <td>0</td>\n",
       "      <td>23.3</td>\n",
       "      <td>0.672</td>\n",
       "      <td>32</td>\n",
       "      <td>1</td>\n",
       "    </tr>\n",
       "    <tr>\n",
       "      <th>3</th>\n",
       "      <td>1</td>\n",
       "      <td>89</td>\n",
       "      <td>66</td>\n",
       "      <td>23</td>\n",
       "      <td>94</td>\n",
       "      <td>28.1</td>\n",
       "      <td>0.167</td>\n",
       "      <td>21</td>\n",
       "      <td>0</td>\n",
       "    </tr>\n",
       "    <tr>\n",
       "      <th>4</th>\n",
       "      <td>0</td>\n",
       "      <td>137</td>\n",
       "      <td>40</td>\n",
       "      <td>35</td>\n",
       "      <td>168</td>\n",
       "      <td>43.1</td>\n",
       "      <td>2.288</td>\n",
       "      <td>33</td>\n",
       "      <td>1</td>\n",
       "    </tr>\n",
       "  </tbody>\n",
       "</table>\n",
       "</div>"
      ],
      "text/plain": [
       "   Pregnancies  Glucose  BloodPressure  SkinThickness  Insulin   BMI  \\\n",
       "0            6      148             72             35        0  33.6   \n",
       "1            1       85             66             29        0  26.6   \n",
       "2            8      183             64              0        0  23.3   \n",
       "3            1       89             66             23       94  28.1   \n",
       "4            0      137             40             35      168  43.1   \n",
       "\n",
       "   DiabetesPedigreeFunction  Age  Outcome  \n",
       "0                     0.627   50        1  \n",
       "1                     0.351   31        0  \n",
       "2                     0.672   32        1  \n",
       "3                     0.167   21        0  \n",
       "4                     2.288   33        1  "
      ]
     },
     "execution_count": 3,
     "metadata": {},
     "output_type": "execute_result"
    }
   ],
   "source": [
    "df.head()"
   ]
  },
  {
   "cell_type": "code",
   "execution_count": 4,
   "id": "9e3f727e",
   "metadata": {
    "execution": {
     "iopub.execute_input": "2023-05-01T22:50:50.555180Z",
     "iopub.status.busy": "2023-05-01T22:50:50.554592Z",
     "iopub.status.idle": "2023-05-01T22:50:50.560761Z",
     "shell.execute_reply": "2023-05-01T22:50:50.559877Z"
    },
    "papermill": {
     "duration": 0.01644,
     "end_time": "2023-05-01T22:50:50.562739",
     "exception": false,
     "start_time": "2023-05-01T22:50:50.546299",
     "status": "completed"
    },
    "tags": []
   },
   "outputs": [
    {
     "data": {
      "text/plain": [
       "(768, 9)"
      ]
     },
     "execution_count": 4,
     "metadata": {},
     "output_type": "execute_result"
    }
   ],
   "source": [
    "df.shape"
   ]
  },
  {
   "cell_type": "code",
   "execution_count": 5,
   "id": "bc0565c1",
   "metadata": {
    "execution": {
     "iopub.execute_input": "2023-05-01T22:50:50.578029Z",
     "iopub.status.busy": "2023-05-01T22:50:50.577445Z",
     "iopub.status.idle": "2023-05-01T22:50:50.623623Z",
     "shell.execute_reply": "2023-05-01T22:50:50.622134Z"
    },
    "papermill": {
     "duration": 0.056867,
     "end_time": "2023-05-01T22:50:50.626208",
     "exception": false,
     "start_time": "2023-05-01T22:50:50.569341",
     "status": "completed"
    },
    "tags": []
   },
   "outputs": [
    {
     "data": {
      "text/html": [
       "<div>\n",
       "<style scoped>\n",
       "    .dataframe tbody tr th:only-of-type {\n",
       "        vertical-align: middle;\n",
       "    }\n",
       "\n",
       "    .dataframe tbody tr th {\n",
       "        vertical-align: top;\n",
       "    }\n",
       "\n",
       "    .dataframe thead th {\n",
       "        text-align: right;\n",
       "    }\n",
       "</style>\n",
       "<table border=\"1\" class=\"dataframe\">\n",
       "  <thead>\n",
       "    <tr style=\"text-align: right;\">\n",
       "      <th></th>\n",
       "      <th>Pregnancies</th>\n",
       "      <th>Glucose</th>\n",
       "      <th>BloodPressure</th>\n",
       "      <th>SkinThickness</th>\n",
       "      <th>Insulin</th>\n",
       "      <th>BMI</th>\n",
       "      <th>DiabetesPedigreeFunction</th>\n",
       "      <th>Age</th>\n",
       "      <th>Outcome</th>\n",
       "    </tr>\n",
       "  </thead>\n",
       "  <tbody>\n",
       "    <tr>\n",
       "      <th>count</th>\n",
       "      <td>768.000000</td>\n",
       "      <td>768.000000</td>\n",
       "      <td>768.000000</td>\n",
       "      <td>768.000000</td>\n",
       "      <td>768.000000</td>\n",
       "      <td>768.000000</td>\n",
       "      <td>768.000000</td>\n",
       "      <td>768.000000</td>\n",
       "      <td>768.000000</td>\n",
       "    </tr>\n",
       "    <tr>\n",
       "      <th>mean</th>\n",
       "      <td>3.845052</td>\n",
       "      <td>120.894531</td>\n",
       "      <td>69.105469</td>\n",
       "      <td>20.536458</td>\n",
       "      <td>79.799479</td>\n",
       "      <td>31.992578</td>\n",
       "      <td>0.471876</td>\n",
       "      <td>33.240885</td>\n",
       "      <td>0.348958</td>\n",
       "    </tr>\n",
       "    <tr>\n",
       "      <th>std</th>\n",
       "      <td>3.369578</td>\n",
       "      <td>31.972618</td>\n",
       "      <td>19.355807</td>\n",
       "      <td>15.952218</td>\n",
       "      <td>115.244002</td>\n",
       "      <td>7.884160</td>\n",
       "      <td>0.331329</td>\n",
       "      <td>11.760232</td>\n",
       "      <td>0.476951</td>\n",
       "    </tr>\n",
       "    <tr>\n",
       "      <th>min</th>\n",
       "      <td>0.000000</td>\n",
       "      <td>0.000000</td>\n",
       "      <td>0.000000</td>\n",
       "      <td>0.000000</td>\n",
       "      <td>0.000000</td>\n",
       "      <td>0.000000</td>\n",
       "      <td>0.078000</td>\n",
       "      <td>21.000000</td>\n",
       "      <td>0.000000</td>\n",
       "    </tr>\n",
       "    <tr>\n",
       "      <th>25%</th>\n",
       "      <td>1.000000</td>\n",
       "      <td>99.000000</td>\n",
       "      <td>62.000000</td>\n",
       "      <td>0.000000</td>\n",
       "      <td>0.000000</td>\n",
       "      <td>27.300000</td>\n",
       "      <td>0.243750</td>\n",
       "      <td>24.000000</td>\n",
       "      <td>0.000000</td>\n",
       "    </tr>\n",
       "    <tr>\n",
       "      <th>50%</th>\n",
       "      <td>3.000000</td>\n",
       "      <td>117.000000</td>\n",
       "      <td>72.000000</td>\n",
       "      <td>23.000000</td>\n",
       "      <td>30.500000</td>\n",
       "      <td>32.000000</td>\n",
       "      <td>0.372500</td>\n",
       "      <td>29.000000</td>\n",
       "      <td>0.000000</td>\n",
       "    </tr>\n",
       "    <tr>\n",
       "      <th>75%</th>\n",
       "      <td>6.000000</td>\n",
       "      <td>140.250000</td>\n",
       "      <td>80.000000</td>\n",
       "      <td>32.000000</td>\n",
       "      <td>127.250000</td>\n",
       "      <td>36.600000</td>\n",
       "      <td>0.626250</td>\n",
       "      <td>41.000000</td>\n",
       "      <td>1.000000</td>\n",
       "    </tr>\n",
       "    <tr>\n",
       "      <th>max</th>\n",
       "      <td>17.000000</td>\n",
       "      <td>199.000000</td>\n",
       "      <td>122.000000</td>\n",
       "      <td>99.000000</td>\n",
       "      <td>846.000000</td>\n",
       "      <td>67.100000</td>\n",
       "      <td>2.420000</td>\n",
       "      <td>81.000000</td>\n",
       "      <td>1.000000</td>\n",
       "    </tr>\n",
       "  </tbody>\n",
       "</table>\n",
       "</div>"
      ],
      "text/plain": [
       "       Pregnancies     Glucose  BloodPressure  SkinThickness     Insulin  \\\n",
       "count   768.000000  768.000000     768.000000     768.000000  768.000000   \n",
       "mean      3.845052  120.894531      69.105469      20.536458   79.799479   \n",
       "std       3.369578   31.972618      19.355807      15.952218  115.244002   \n",
       "min       0.000000    0.000000       0.000000       0.000000    0.000000   \n",
       "25%       1.000000   99.000000      62.000000       0.000000    0.000000   \n",
       "50%       3.000000  117.000000      72.000000      23.000000   30.500000   \n",
       "75%       6.000000  140.250000      80.000000      32.000000  127.250000   \n",
       "max      17.000000  199.000000     122.000000      99.000000  846.000000   \n",
       "\n",
       "              BMI  DiabetesPedigreeFunction         Age     Outcome  \n",
       "count  768.000000                768.000000  768.000000  768.000000  \n",
       "mean    31.992578                  0.471876   33.240885    0.348958  \n",
       "std      7.884160                  0.331329   11.760232    0.476951  \n",
       "min      0.000000                  0.078000   21.000000    0.000000  \n",
       "25%     27.300000                  0.243750   24.000000    0.000000  \n",
       "50%     32.000000                  0.372500   29.000000    0.000000  \n",
       "75%     36.600000                  0.626250   41.000000    1.000000  \n",
       "max     67.100000                  2.420000   81.000000    1.000000  "
      ]
     },
     "execution_count": 5,
     "metadata": {},
     "output_type": "execute_result"
    }
   ],
   "source": [
    "df.describe()"
   ]
  },
  {
   "cell_type": "code",
   "execution_count": 6,
   "id": "f31f4bda",
   "metadata": {
    "execution": {
     "iopub.execute_input": "2023-05-01T22:50:50.642144Z",
     "iopub.status.busy": "2023-05-01T22:50:50.641675Z",
     "iopub.status.idle": "2023-05-01T22:50:50.655941Z",
     "shell.execute_reply": "2023-05-01T22:50:50.654594Z"
    },
    "papermill": {
     "duration": 0.025333,
     "end_time": "2023-05-01T22:50:50.658584",
     "exception": false,
     "start_time": "2023-05-01T22:50:50.633251",
     "status": "completed"
    },
    "tags": []
   },
   "outputs": [
    {
     "data": {
      "text/plain": [
       "0    500\n",
       "1    268\n",
       "Name: Outcome, dtype: int64"
      ]
     },
     "execution_count": 6,
     "metadata": {},
     "output_type": "execute_result"
    }
   ],
   "source": [
    "df['Outcome'].value_counts()"
   ]
  },
  {
   "cell_type": "code",
   "execution_count": 7,
   "id": "a54217d1",
   "metadata": {
    "execution": {
     "iopub.execute_input": "2023-05-01T22:50:50.674786Z",
     "iopub.status.busy": "2023-05-01T22:50:50.674416Z",
     "iopub.status.idle": "2023-05-01T22:50:50.702447Z",
     "shell.execute_reply": "2023-05-01T22:50:50.701280Z"
    },
    "papermill": {
     "duration": 0.039469,
     "end_time": "2023-05-01T22:50:50.705435",
     "exception": false,
     "start_time": "2023-05-01T22:50:50.665966",
     "status": "completed"
    },
    "tags": []
   },
   "outputs": [
    {
     "data": {
      "text/html": [
       "<div>\n",
       "<style scoped>\n",
       "    .dataframe tbody tr th:only-of-type {\n",
       "        vertical-align: middle;\n",
       "    }\n",
       "\n",
       "    .dataframe tbody tr th {\n",
       "        vertical-align: top;\n",
       "    }\n",
       "\n",
       "    .dataframe thead th {\n",
       "        text-align: right;\n",
       "    }\n",
       "</style>\n",
       "<table border=\"1\" class=\"dataframe\">\n",
       "  <thead>\n",
       "    <tr style=\"text-align: right;\">\n",
       "      <th></th>\n",
       "      <th>Pregnancies</th>\n",
       "      <th>Glucose</th>\n",
       "      <th>BloodPressure</th>\n",
       "      <th>SkinThickness</th>\n",
       "      <th>Insulin</th>\n",
       "      <th>BMI</th>\n",
       "      <th>DiabetesPedigreeFunction</th>\n",
       "      <th>Age</th>\n",
       "    </tr>\n",
       "    <tr>\n",
       "      <th>Outcome</th>\n",
       "      <th></th>\n",
       "      <th></th>\n",
       "      <th></th>\n",
       "      <th></th>\n",
       "      <th></th>\n",
       "      <th></th>\n",
       "      <th></th>\n",
       "      <th></th>\n",
       "    </tr>\n",
       "  </thead>\n",
       "  <tbody>\n",
       "    <tr>\n",
       "      <th>0</th>\n",
       "      <td>3.298000</td>\n",
       "      <td>109.980000</td>\n",
       "      <td>68.184000</td>\n",
       "      <td>19.664000</td>\n",
       "      <td>68.792000</td>\n",
       "      <td>30.304200</td>\n",
       "      <td>0.429734</td>\n",
       "      <td>31.190000</td>\n",
       "    </tr>\n",
       "    <tr>\n",
       "      <th>1</th>\n",
       "      <td>4.865672</td>\n",
       "      <td>141.257463</td>\n",
       "      <td>70.824627</td>\n",
       "      <td>22.164179</td>\n",
       "      <td>100.335821</td>\n",
       "      <td>35.142537</td>\n",
       "      <td>0.550500</td>\n",
       "      <td>37.067164</td>\n",
       "    </tr>\n",
       "  </tbody>\n",
       "</table>\n",
       "</div>"
      ],
      "text/plain": [
       "         Pregnancies     Glucose  BloodPressure  SkinThickness     Insulin  \\\n",
       "Outcome                                                                      \n",
       "0           3.298000  109.980000      68.184000      19.664000   68.792000   \n",
       "1           4.865672  141.257463      70.824627      22.164179  100.335821   \n",
       "\n",
       "               BMI  DiabetesPedigreeFunction        Age  \n",
       "Outcome                                                  \n",
       "0        30.304200                  0.429734  31.190000  \n",
       "1        35.142537                  0.550500  37.067164  "
      ]
     },
     "execution_count": 7,
     "metadata": {},
     "output_type": "execute_result"
    }
   ],
   "source": [
    "df.groupby('Outcome').mean()"
   ]
  },
  {
   "cell_type": "markdown",
   "id": "a0fa4718",
   "metadata": {
    "papermill": {
     "duration": 0.007384,
     "end_time": "2023-05-01T22:50:50.720342",
     "exception": false,
     "start_time": "2023-05-01T22:50:50.712958",
     "status": "completed"
    },
    "tags": []
   },
   "source": [
    "<a id = \"2\"></a><br>\n",
    "## Separating the features and target"
   ]
  },
  {
   "cell_type": "code",
   "execution_count": 8,
   "id": "feeac8eb",
   "metadata": {
    "execution": {
     "iopub.execute_input": "2023-05-01T22:50:50.737958Z",
     "iopub.status.busy": "2023-05-01T22:50:50.736808Z",
     "iopub.status.idle": "2023-05-01T22:50:50.744944Z",
     "shell.execute_reply": "2023-05-01T22:50:50.743550Z"
    },
    "papermill": {
     "duration": 0.019641,
     "end_time": "2023-05-01T22:50:50.747572",
     "exception": false,
     "start_time": "2023-05-01T22:50:50.727931",
     "status": "completed"
    },
    "tags": []
   },
   "outputs": [],
   "source": [
    "x = df.drop(columns = 'Outcome', axis=1)\n",
    "y = df['Outcome']"
   ]
  },
  {
   "cell_type": "markdown",
   "id": "a7dab219",
   "metadata": {
    "papermill": {
     "duration": 0.00708,
     "end_time": "2023-05-01T22:50:50.762004",
     "exception": false,
     "start_time": "2023-05-01T22:50:50.754924",
     "status": "completed"
    },
    "tags": []
   },
   "source": [
    "<a id = \"3\"></a><br>\n",
    "# Training"
   ]
  },
  {
   "cell_type": "markdown",
   "id": "febc3d82",
   "metadata": {
    "papermill": {
     "duration": 0.006832,
     "end_time": "2023-05-01T22:50:50.776097",
     "exception": false,
     "start_time": "2023-05-01T22:50:50.769265",
     "status": "completed"
    },
    "tags": []
   },
   "source": [
    "<a id = \"4\"></a><br>\n",
    "## Train Test Split"
   ]
  },
  {
   "cell_type": "code",
   "execution_count": 9,
   "id": "ab4c5920",
   "metadata": {
    "execution": {
     "iopub.execute_input": "2023-05-01T22:50:50.793026Z",
     "iopub.status.busy": "2023-05-01T22:50:50.792062Z",
     "iopub.status.idle": "2023-05-01T22:50:50.803949Z",
     "shell.execute_reply": "2023-05-01T22:50:50.802407Z"
    },
    "papermill": {
     "duration": 0.023687,
     "end_time": "2023-05-01T22:50:50.806811",
     "exception": false,
     "start_time": "2023-05-01T22:50:50.783124",
     "status": "completed"
    },
    "tags": []
   },
   "outputs": [],
   "source": [
    "x_train,x_test,y_train,y_test = train_test_split(x,y, test_size = 0.2, stratify=y, random_state=42)"
   ]
  },
  {
   "cell_type": "markdown",
   "id": "8885d8c5",
   "metadata": {
    "papermill": {
     "duration": 0.007475,
     "end_time": "2023-05-01T22:50:50.821464",
     "exception": false,
     "start_time": "2023-05-01T22:50:50.813989",
     "status": "completed"
    },
    "tags": []
   },
   "source": [
    "<a id = \"5\"></a><br>\n",
    "## Training the Model"
   ]
  },
  {
   "cell_type": "code",
   "execution_count": 10,
   "id": "0df107de",
   "metadata": {
    "execution": {
     "iopub.execute_input": "2023-05-01T22:50:50.839925Z",
     "iopub.status.busy": "2023-05-01T22:50:50.838598Z",
     "iopub.status.idle": "2023-05-01T22:50:50.844648Z",
     "shell.execute_reply": "2023-05-01T22:50:50.843396Z"
    },
    "papermill": {
     "duration": 0.017832,
     "end_time": "2023-05-01T22:50:50.846957",
     "exception": false,
     "start_time": "2023-05-01T22:50:50.829125",
     "status": "completed"
    },
    "tags": []
   },
   "outputs": [],
   "source": [
    "classifier = svm.SVC(kernel='linear')"
   ]
  },
  {
   "cell_type": "code",
   "execution_count": 11,
   "id": "9dd7620a",
   "metadata": {
    "execution": {
     "iopub.execute_input": "2023-05-01T22:50:50.864137Z",
     "iopub.status.busy": "2023-05-01T22:50:50.863337Z",
     "iopub.status.idle": "2023-05-01T22:50:54.718204Z",
     "shell.execute_reply": "2023-05-01T22:50:54.716879Z"
    },
    "papermill": {
     "duration": 3.866786,
     "end_time": "2023-05-01T22:50:54.720907",
     "exception": false,
     "start_time": "2023-05-01T22:50:50.854121",
     "status": "completed"
    },
    "tags": []
   },
   "outputs": [
    {
     "data": {
      "text/html": [
       "<style>#sk-container-id-1 {color: black;background-color: white;}#sk-container-id-1 pre{padding: 0;}#sk-container-id-1 div.sk-toggleable {background-color: white;}#sk-container-id-1 label.sk-toggleable__label {cursor: pointer;display: block;width: 100%;margin-bottom: 0;padding: 0.3em;box-sizing: border-box;text-align: center;}#sk-container-id-1 label.sk-toggleable__label-arrow:before {content: \"▸\";float: left;margin-right: 0.25em;color: #696969;}#sk-container-id-1 label.sk-toggleable__label-arrow:hover:before {color: black;}#sk-container-id-1 div.sk-estimator:hover label.sk-toggleable__label-arrow:before {color: black;}#sk-container-id-1 div.sk-toggleable__content {max-height: 0;max-width: 0;overflow: hidden;text-align: left;background-color: #f0f8ff;}#sk-container-id-1 div.sk-toggleable__content pre {margin: 0.2em;color: black;border-radius: 0.25em;background-color: #f0f8ff;}#sk-container-id-1 input.sk-toggleable__control:checked~div.sk-toggleable__content {max-height: 200px;max-width: 100%;overflow: auto;}#sk-container-id-1 input.sk-toggleable__control:checked~label.sk-toggleable__label-arrow:before {content: \"▾\";}#sk-container-id-1 div.sk-estimator input.sk-toggleable__control:checked~label.sk-toggleable__label {background-color: #d4ebff;}#sk-container-id-1 div.sk-label input.sk-toggleable__control:checked~label.sk-toggleable__label {background-color: #d4ebff;}#sk-container-id-1 input.sk-hidden--visually {border: 0;clip: rect(1px 1px 1px 1px);clip: rect(1px, 1px, 1px, 1px);height: 1px;margin: -1px;overflow: hidden;padding: 0;position: absolute;width: 1px;}#sk-container-id-1 div.sk-estimator {font-family: monospace;background-color: #f0f8ff;border: 1px dotted black;border-radius: 0.25em;box-sizing: border-box;margin-bottom: 0.5em;}#sk-container-id-1 div.sk-estimator:hover {background-color: #d4ebff;}#sk-container-id-1 div.sk-parallel-item::after {content: \"\";width: 100%;border-bottom: 1px solid gray;flex-grow: 1;}#sk-container-id-1 div.sk-label:hover label.sk-toggleable__label {background-color: #d4ebff;}#sk-container-id-1 div.sk-serial::before {content: \"\";position: absolute;border-left: 1px solid gray;box-sizing: border-box;top: 0;bottom: 0;left: 50%;z-index: 0;}#sk-container-id-1 div.sk-serial {display: flex;flex-direction: column;align-items: center;background-color: white;padding-right: 0.2em;padding-left: 0.2em;position: relative;}#sk-container-id-1 div.sk-item {position: relative;z-index: 1;}#sk-container-id-1 div.sk-parallel {display: flex;align-items: stretch;justify-content: center;background-color: white;position: relative;}#sk-container-id-1 div.sk-item::before, #sk-container-id-1 div.sk-parallel-item::before {content: \"\";position: absolute;border-left: 1px solid gray;box-sizing: border-box;top: 0;bottom: 0;left: 50%;z-index: -1;}#sk-container-id-1 div.sk-parallel-item {display: flex;flex-direction: column;z-index: 1;position: relative;background-color: white;}#sk-container-id-1 div.sk-parallel-item:first-child::after {align-self: flex-end;width: 50%;}#sk-container-id-1 div.sk-parallel-item:last-child::after {align-self: flex-start;width: 50%;}#sk-container-id-1 div.sk-parallel-item:only-child::after {width: 0;}#sk-container-id-1 div.sk-dashed-wrapped {border: 1px dashed gray;margin: 0 0.4em 0.5em 0.4em;box-sizing: border-box;padding-bottom: 0.4em;background-color: white;}#sk-container-id-1 div.sk-label label {font-family: monospace;font-weight: bold;display: inline-block;line-height: 1.2em;}#sk-container-id-1 div.sk-label-container {text-align: center;}#sk-container-id-1 div.sk-container {/* jupyter's `normalize.less` sets `[hidden] { display: none; }` but bootstrap.min.css set `[hidden] { display: none !important; }` so we also need the `!important` here to be able to override the default hidden behavior on the sphinx rendered scikit-learn.org. See: https://github.com/scikit-learn/scikit-learn/issues/21755 */display: inline-block !important;position: relative;}#sk-container-id-1 div.sk-text-repr-fallback {display: none;}</style><div id=\"sk-container-id-1\" class=\"sk-top-container\"><div class=\"sk-text-repr-fallback\"><pre>SVC(kernel=&#x27;linear&#x27;)</pre><b>In a Jupyter environment, please rerun this cell to show the HTML representation or trust the notebook. <br />On GitHub, the HTML representation is unable to render, please try loading this page with nbviewer.org.</b></div><div class=\"sk-container\" hidden><div class=\"sk-item\"><div class=\"sk-estimator sk-toggleable\"><input class=\"sk-toggleable__control sk-hidden--visually\" id=\"sk-estimator-id-1\" type=\"checkbox\" checked><label for=\"sk-estimator-id-1\" class=\"sk-toggleable__label sk-toggleable__label-arrow\">SVC</label><div class=\"sk-toggleable__content\"><pre>SVC(kernel=&#x27;linear&#x27;)</pre></div></div></div></div></div>"
      ],
      "text/plain": [
       "SVC(kernel='linear')"
      ]
     },
     "execution_count": 11,
     "metadata": {},
     "output_type": "execute_result"
    }
   ],
   "source": [
    "#training the Classifier\n",
    "classifier.fit(x_train, y_train)"
   ]
  },
  {
   "cell_type": "markdown",
   "id": "308679dc",
   "metadata": {
    "papermill": {
     "duration": 0.008042,
     "end_time": "2023-05-01T22:50:54.737042",
     "exception": false,
     "start_time": "2023-05-01T22:50:54.729000",
     "status": "completed"
    },
    "tags": []
   },
   "source": [
    "<a id = \"6\"></a><br>\n",
    "# Model Evaluation"
   ]
  },
  {
   "cell_type": "markdown",
   "id": "2425d233",
   "metadata": {
    "papermill": {
     "duration": 0.007002,
     "end_time": "2023-05-01T22:50:54.751368",
     "exception": false,
     "start_time": "2023-05-01T22:50:54.744366",
     "status": "completed"
    },
    "tags": []
   },
   "source": [
    "<a id = \"7\"></a><br>\n",
    "## Accuracy Score"
   ]
  },
  {
   "cell_type": "code",
   "execution_count": 12,
   "id": "834d466f",
   "metadata": {
    "execution": {
     "iopub.execute_input": "2023-05-01T22:50:54.768244Z",
     "iopub.status.busy": "2023-05-01T22:50:54.767749Z",
     "iopub.status.idle": "2023-05-01T22:50:54.781622Z",
     "shell.execute_reply": "2023-05-01T22:50:54.780479Z"
    },
    "papermill": {
     "duration": 0.025712,
     "end_time": "2023-05-01T22:50:54.784364",
     "exception": false,
     "start_time": "2023-05-01T22:50:54.758652",
     "status": "completed"
    },
    "tags": []
   },
   "outputs": [],
   "source": [
    "# accuracy score on the training data\n",
    "train_data_pred = classifier.predict(x_train)\n",
    "training_data_acc = accuracy_score(train_data_pred, y_train)"
   ]
  },
  {
   "cell_type": "code",
   "execution_count": 13,
   "id": "d37c175a",
   "metadata": {
    "execution": {
     "iopub.execute_input": "2023-05-01T22:50:54.802013Z",
     "iopub.status.busy": "2023-05-01T22:50:54.800995Z",
     "iopub.status.idle": "2023-05-01T22:50:54.808111Z",
     "shell.execute_reply": "2023-05-01T22:50:54.806574Z"
    },
    "papermill": {
     "duration": 0.018447,
     "end_time": "2023-05-01T22:50:54.810381",
     "exception": false,
     "start_time": "2023-05-01T22:50:54.791934",
     "status": "completed"
    },
    "tags": []
   },
   "outputs": [
    {
     "name": "stdout",
     "output_type": "stream",
     "text": [
      "Accuracy score of training data : %79.15309446254072\n"
     ]
    }
   ],
   "source": [
    "print(f\"Accuracy score of training data : %{training_data_acc*100}\")"
   ]
  },
  {
   "cell_type": "code",
   "execution_count": 14,
   "id": "d173252e",
   "metadata": {
    "execution": {
     "iopub.execute_input": "2023-05-01T22:50:54.827598Z",
     "iopub.status.busy": "2023-05-01T22:50:54.827100Z",
     "iopub.status.idle": "2023-05-01T22:50:54.836722Z",
     "shell.execute_reply": "2023-05-01T22:50:54.835637Z"
    },
    "papermill": {
     "duration": 0.021575,
     "end_time": "2023-05-01T22:50:54.839491",
     "exception": false,
     "start_time": "2023-05-01T22:50:54.817916",
     "status": "completed"
    },
    "tags": []
   },
   "outputs": [],
   "source": [
    "# accuracy score on the test data\n",
    "test_data_pred = classifier.predict(x_test)\n",
    "test_data_acc = accuracy_score(test_data_pred, y_test)"
   ]
  },
  {
   "cell_type": "code",
   "execution_count": 15,
   "id": "7169401a",
   "metadata": {
    "execution": {
     "iopub.execute_input": "2023-05-01T22:50:54.857539Z",
     "iopub.status.busy": "2023-05-01T22:50:54.857085Z",
     "iopub.status.idle": "2023-05-01T22:50:54.864157Z",
     "shell.execute_reply": "2023-05-01T22:50:54.862435Z"
    },
    "papermill": {
     "duration": 0.019062,
     "end_time": "2023-05-01T22:50:54.866613",
     "exception": false,
     "start_time": "2023-05-01T22:50:54.847551",
     "status": "completed"
    },
    "tags": []
   },
   "outputs": [
    {
     "name": "stdout",
     "output_type": "stream",
     "text": [
      "Accuracy score of training data : %72.07792207792207\n"
     ]
    }
   ],
   "source": [
    "print(f\"Accuracy score of training data : %{test_data_acc*100}\")"
   ]
  },
  {
   "cell_type": "markdown",
   "id": "2d220939",
   "metadata": {
    "papermill": {
     "duration": 0.007719,
     "end_time": "2023-05-01T22:50:54.882634",
     "exception": false,
     "start_time": "2023-05-01T22:50:54.874915",
     "status": "completed"
    },
    "tags": []
   },
   "source": [
    "<a id = \"8\"></a><br>\n",
    "# Making a Predictive System"
   ]
  },
  {
   "cell_type": "code",
   "execution_count": 16,
   "id": "583be2fe",
   "metadata": {
    "execution": {
     "iopub.execute_input": "2023-05-01T22:50:54.900391Z",
     "iopub.status.busy": "2023-05-01T22:50:54.899927Z",
     "iopub.status.idle": "2023-05-01T22:50:54.910019Z",
     "shell.execute_reply": "2023-05-01T22:50:54.908826Z"
    },
    "papermill": {
     "duration": 0.022105,
     "end_time": "2023-05-01T22:50:54.912691",
     "exception": false,
     "start_time": "2023-05-01T22:50:54.890586",
     "status": "completed"
    },
    "tags": []
   },
   "outputs": [
    {
     "name": "stdout",
     "output_type": "stream",
     "text": [
      "[1]\n",
      "The person is diabetic\n"
     ]
    },
    {
     "name": "stderr",
     "output_type": "stream",
     "text": [
      "/opt/conda/lib/python3.10/site-packages/sklearn/base.py:439: UserWarning: X does not have valid feature names, but SVC was fitted with feature names\n",
      "  warnings.warn(\n"
     ]
    }
   ],
   "source": [
    "input_data = (5,166,72,19,175,25.8,0.587,51)\n",
    "\n",
    "# changing the input_data to numpy array\n",
    "input_data_as_numpy_array = np.asarray(input_data)\n",
    "\n",
    "# reshape the array as we are predicting for one instance\n",
    "input_data_reshaped = input_data_as_numpy_array.reshape(1,-1)\n",
    "\n",
    "prediction = classifier.predict(input_data_reshaped)\n",
    "print(prediction)\n",
    "\n",
    "if (prediction[0] == 0):\n",
    "  print('The person is not diabetic')\n",
    "else:\n",
    "  print('The person is diabetic')"
   ]
  },
  {
   "cell_type": "markdown",
   "id": "a4fba8dc",
   "metadata": {
    "papermill": {
     "duration": 0.007667,
     "end_time": "2023-05-01T22:50:54.928848",
     "exception": false,
     "start_time": "2023-05-01T22:50:54.921181",
     "status": "completed"
    },
    "tags": []
   },
   "source": [
    "<a id = \"9\"></a><br>\n",
    "# Saving the model"
   ]
  },
  {
   "cell_type": "code",
   "execution_count": 17,
   "id": "621a3158",
   "metadata": {
    "execution": {
     "iopub.execute_input": "2023-05-01T22:50:54.946549Z",
     "iopub.status.busy": "2023-05-01T22:50:54.946084Z",
     "iopub.status.idle": "2023-05-01T22:50:54.951541Z",
     "shell.execute_reply": "2023-05-01T22:50:54.950254Z"
    },
    "papermill": {
     "duration": 0.017213,
     "end_time": "2023-05-01T22:50:54.953915",
     "exception": false,
     "start_time": "2023-05-01T22:50:54.936702",
     "status": "completed"
    },
    "tags": []
   },
   "outputs": [],
   "source": [
    "import pickle"
   ]
  },
  {
   "cell_type": "code",
   "execution_count": 18,
   "id": "6f2cfae8",
   "metadata": {
    "execution": {
     "iopub.execute_input": "2023-05-01T22:50:54.972225Z",
     "iopub.status.busy": "2023-05-01T22:50:54.971760Z",
     "iopub.status.idle": "2023-05-01T22:50:54.978386Z",
     "shell.execute_reply": "2023-05-01T22:50:54.977206Z"
    },
    "papermill": {
     "duration": 0.01869,
     "end_time": "2023-05-01T22:50:54.980792",
     "exception": false,
     "start_time": "2023-05-01T22:50:54.962102",
     "status": "completed"
    },
    "tags": []
   },
   "outputs": [],
   "source": [
    "filename = 'trained_model.sav'\n",
    "pickle.dump(classifier, open(filename, 'wb'))"
   ]
  },
  {
   "cell_type": "code",
   "execution_count": 19,
   "id": "42013405",
   "metadata": {
    "execution": {
     "iopub.execute_input": "2023-05-01T22:50:54.999251Z",
     "iopub.status.busy": "2023-05-01T22:50:54.998815Z",
     "iopub.status.idle": "2023-05-01T22:50:55.004570Z",
     "shell.execute_reply": "2023-05-01T22:50:55.003348Z"
    },
    "papermill": {
     "duration": 0.01793,
     "end_time": "2023-05-01T22:50:55.007000",
     "exception": false,
     "start_time": "2023-05-01T22:50:54.989070",
     "status": "completed"
    },
    "tags": []
   },
   "outputs": [],
   "source": [
    "# loading the saved model\n",
    "loaded_model = pickle.load(open('trained_model.sav', 'rb'))"
   ]
  }
 ],
 "metadata": {
  "kernelspec": {
   "display_name": "Python 3",
   "language": "python",
   "name": "python3"
  },
  "language_info": {
   "codemirror_mode": {
    "name": "ipython",
    "version": 3
   },
   "file_extension": ".py",
   "mimetype": "text/x-python",
   "name": "python",
   "nbconvert_exporter": "python",
   "pygments_lexer": "ipython3",
   "version": "3.10.10"
  },
  "papermill": {
   "default_parameters": {},
   "duration": 17.841289,
   "end_time": "2023-05-01T22:50:55.938904",
   "environment_variables": {},
   "exception": null,
   "input_path": "__notebook__.ipynb",
   "output_path": "__notebook__.ipynb",
   "parameters": {},
   "start_time": "2023-05-01T22:50:38.097615",
   "version": "2.4.0"
  }
 },
 "nbformat": 4,
 "nbformat_minor": 5
}
